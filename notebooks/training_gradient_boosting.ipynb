{
 "cells": [
  {
   "cell_type": "code",
   "execution_count": 1,
   "id": "d85f5534-b9db-47f3-9965-39428a21f728",
   "metadata": {},
   "outputs": [],
   "source": [
    "from sklearn.ensemble import GradientBoostingClassifier\n",
    "import pandas as pd\n",
    "from sklearn.linear_model import LogisticRegression\n",
    "import pickle\n",
    "\n",
    "\n",
    "# Load the training data\n",
    "X_train = pd.read_csv('/home/e19452/ml_project/e19-co544-Diabetes-Health-Indicator/data/X_train.csv')\n",
    "y_train = pd.read_csv('/home/e19452/ml_project/e19-co544-Diabetes-Health-Indicator/data/y_train.csv').squeeze()  # Ensure y_train is a Series, not a DataFrame\n",
    "\n",
    "# Instantiate the model\n",
    "model = GradientBoostingClassifier(random_state=42)\n",
    "\n",
    "# Train the model\n",
    "model.fit(X_train, y_train)\n",
    "\n",
    "# Specify the path and model name\n",
    "path = '/home/e19452/ml_project/e19-co544-Diabetes-Health-Indicator/models/'  # Replace with your desired directory path\n",
    "model_name = 'gradient_boosting.pkl'  # Replace with your desired model name\n",
    "\n",
    "# Save the trained model to a pickle file\n",
    "with open(f'{path}{model_name}', 'wb') as file:\n",
    "    pickle.dump(model, file, protocol=2)"
   ]
  },
  {
   "cell_type": "code",
   "execution_count": null,
   "id": "83119eab-639b-447b-af37-59d64bd7217e",
   "metadata": {},
   "outputs": [],
   "source": []
  }
 ],
 "metadata": {
  "kernelspec": {
   "display_name": "Python 3 (ipykernel)",
   "language": "python",
   "name": "python3"
  },
  "language_info": {
   "codemirror_mode": {
    "name": "ipython",
    "version": 3
   },
   "file_extension": ".py",
   "mimetype": "text/x-python",
   "name": "python",
   "nbconvert_exporter": "python",
   "pygments_lexer": "ipython3",
   "version": "3.12.3"
  }
 },
 "nbformat": 4,
 "nbformat_minor": 5
}
