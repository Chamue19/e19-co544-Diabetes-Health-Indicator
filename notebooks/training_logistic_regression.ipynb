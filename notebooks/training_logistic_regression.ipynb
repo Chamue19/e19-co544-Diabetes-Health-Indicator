{
 "cells": [
  {
   "cell_type": "code",
   "execution_count": 2,
   "id": "e1d8bd45-ebb0-47bd-8cdc-aafae84bd6bc",
   "metadata": {},
   "outputs": [],
   "source": [
    "import pandas as pd\n",
    "from sklearn.linear_model import LogisticRegression\n",
    "import pickle\n",
    "from sklearn.preprocessing import StandardScaler\n",
    "from sklearn.pipeline import make_pipeline\n",
    "\n",
    "# Load the training data\n",
    "X_train = pd.read_csv('/home/e19452/ml_project/e19-co544-Diabetes-Health-Indicator/data/X_train.csv')\n",
    "y_train = pd.read_csv('/home/e19452/ml_project/e19-co544-Diabetes-Health-Indicator/data/y_train.csv').squeeze()  # Ensure y_train is a Series, not a DataFrame\n",
    "\n",
    "# Instantiate the model\n",
    "model = make_pipeline(StandardScaler(), LogisticRegression(random_state=42, n_jobs=-1, max_iter=1000))\n",
    "\n",
    "# Train the model\n",
    "model.fit(X_train, y_train)\n",
    "\n",
    "# Specify the path and model name\n",
    "path = '/home/e19452/ml_project/e19-co544-Diabetes-Health-Indicator/models/'  # Replace with your desired directory path\n",
    "model_name = 'logistic_regression.pkl'  # Replace with your desired model name\n",
    "\n",
    "# Save the trained model to a pickle file\n",
    "with open(f'{path}{model_name}', 'wb') as file:\n",
    "    pickle.dump(model, file, protocol=2)"
   ]
  },
  {
   "cell_type": "code",
   "execution_count": null,
   "id": "1048e656-b47d-46f0-b746-09e5354879eb",
   "metadata": {},
   "outputs": [],
   "source": []
  }
 ],
 "metadata": {
  "kernelspec": {
   "display_name": "Python 3 (ipykernel)",
   "language": "python",
   "name": "python3"
  },
  "language_info": {
   "codemirror_mode": {
    "name": "ipython",
    "version": 3
   },
   "file_extension": ".py",
   "mimetype": "text/x-python",
   "name": "python",
   "nbconvert_exporter": "python",
   "pygments_lexer": "ipython3",
   "version": "3.12.3"
  }
 },
 "nbformat": 4,
 "nbformat_minor": 5
}
