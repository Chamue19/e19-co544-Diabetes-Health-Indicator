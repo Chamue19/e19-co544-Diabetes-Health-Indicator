{
 "cells": [
  {
   "cell_type": "code",
   "execution_count": 1,
   "id": "118ca16c-7701-474f-989c-a698bf840511",
   "metadata": {},
   "outputs": [],
   "source": [
    "import pandas as pd\n",
    "from sklearn.ensemble import RandomForestClassifier\n",
    "import pickle\n",
    "\n",
    "# Load the training dataa\n",
    "X_train = pd.read_csv('/home/e19452/ml_project/e19-co544-Diabetes-Health-Indicator/data/X_train.csv')\n",
    "y_train = pd.read_csv('/home/e19452/ml_project/e19-co544-Diabetes-Health-Indicator/data/y_train.csv').squeeze()  # Ensure y_train is a Series, not a DataFrame\n",
    "\n",
    "# # Initialize the Random Forest Classifier with best hyperparameters\n",
    "# model = RandomForestClassifier(\n",
    "#     n_estimators=300,\n",
    "#     max_depth=None,\n",
    "#     min_samples_split=2,\n",
    "#     min_samples_leaf=1,\n",
    "#     max_features='sqrt',\n",
    "#     random_state=42,\n",
    "#     n_jobs=-1\n",
    "# )\n",
    "model = RandomForestClassifier(n_jobs = -1, random_state = 42)\n",
    "\n",
    "# Train the model\n",
    "model.fit(X_train, y_train)\n",
    "\n",
    "# Specify the path and model name\n",
    "path = '/home/e19452/ml_project/e19-co544-Diabetes-Health-Indicator/models/'  # Replace with your desired directory path\n",
    "model_name = 'random_forest.pkl'  # Replace with your desired model name\n",
    "\n",
    "# Save the trained model to a pickle file\n",
    "with open(f'{path}{model_name}', 'wb') as file:\n",
    "    pickle.dump(model, file, protocol=2)\n",
    "\n"
   ]
  },
  {
   "cell_type": "code",
   "execution_count": null,
   "id": "46fd1880-44cf-4d94-b167-45c7fc97036c",
   "metadata": {},
   "outputs": [],
   "source": []
  }
 ],
 "metadata": {
  "kernelspec": {
   "display_name": "Python 3 (ipykernel)",
   "language": "python",
   "name": "python3"
  },
  "language_info": {
   "codemirror_mode": {
    "name": "ipython",
    "version": 3
   },
   "file_extension": ".py",
   "mimetype": "text/x-python",
   "name": "python",
   "nbconvert_exporter": "python",
   "pygments_lexer": "ipython3",
   "version": "3.12.3"
  }
 },
 "nbformat": 4,
 "nbformat_minor": 5
}
