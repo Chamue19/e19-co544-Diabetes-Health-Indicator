{
 "cells": [
  {
   "cell_type": "code",
   "execution_count": 2,
   "id": "88e6e7e5-5d76-47a2-8c24-c52d1388900d",
   "metadata": {},
   "outputs": [
    {
     "name": "stderr",
     "output_type": "stream",
     "text": [
      "/home/e19452/ml_project/env/lib/python3.12/site-packages/sklearn/svm/_base.py:297: ConvergenceWarning: Solver terminated early (max_iter=10000).  Consider pre-processing your data with StandardScaler or MinMaxScaler.\n",
      "  warnings.warn(\n"
     ]
    }
   ],
   "source": [
    "import pandas as pd\n",
    "from sklearn.svm import SVC\n",
    "import pickle\n",
    "from sklearn.preprocessing import StandardScaler\n",
    "from sklearn.pipeline import make_pipeline\n",
    "\n",
    "# Load the training data\n",
    "X_train = pd.read_csv('/home/e19452/ml_project/e19-co544-Diabetes-Health-Indicator/data/X_train.csv')\n",
    "y_train = pd.read_csv('/home/e19452/ml_project/e19-co544-Diabetes-Health-Indicator/data/y_train.csv').squeeze()  # Ensure y_train is a Series, not a DataFrame\n",
    "\n",
    "# Create a pipeline that scales the data then trains the model\n",
    "model = make_pipeline(StandardScaler(), SVC(random_state=42, max_iter=10000))\n",
    "\n",
    "# Train the model\n",
    "model.fit(X_train, y_train)\n",
    "\n",
    "# Specify the path and model name\n",
    "path = '/home/e19452/ml_project/e19-co544-Diabetes-Health-Indicator/models/'  \n",
    "model_name = 'svm_model.pkl' \n",
    "\n",
    "# Save the trained model to a pickle file\n",
    "with open(f'{path}{model_name}', 'wb') as file:\n",
    "    pickle.dump(model, file, protocol=2)"
   ]
  },
  {
   "cell_type": "code",
   "execution_count": null,
   "id": "713808fe-da8c-4b92-a0d4-d45dd0525362",
   "metadata": {},
   "outputs": [],
   "source": []
  }
 ],
 "metadata": {
  "kernelspec": {
   "display_name": "Python 3 (ipykernel)",
   "language": "python",
   "name": "python3"
  },
  "language_info": {
   "codemirror_mode": {
    "name": "ipython",
    "version": 3
   },
   "file_extension": ".py",
   "mimetype": "text/x-python",
   "name": "python",
   "nbconvert_exporter": "python",
   "pygments_lexer": "ipython3",
   "version": "3.12.3"
  }
 },
 "nbformat": 4,
 "nbformat_minor": 5
}
